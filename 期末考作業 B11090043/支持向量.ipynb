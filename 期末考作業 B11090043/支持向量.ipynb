{
  "nbformat": 4,
  "nbformat_minor": 0,
  "metadata": {
    "colab": {
      "provenance": [],
      "toc_visible": true,
      "authorship_tag": "ABX9TyOMYDqGMSWyyW2LuKhm6P8p",
      "include_colab_link": true
    },
    "kernelspec": {
      "name": "python3",
      "display_name": "Python 3"
    },
    "language_info": {
      "name": "python"
    }
  },
  "cells": [
    {
      "cell_type": "markdown",
      "metadata": {
        "id": "view-in-github",
        "colab_type": "text"
      },
      "source": [
        "<a href=\"https://colab.research.google.com/github/qqzzqqzzz/B11090043/blob/main/%E6%94%AF%E6%8C%81%E5%90%91%E9%87%8F.ipynb\" target=\"_parent\"><img src=\"https://colab.research.google.com/assets/colab-badge.svg\" alt=\"Open In Colab\"/></a>"
      ]
    },
    {
      "cell_type": "code",
      "execution_count": 1,
      "metadata": {
        "colab": {
          "base_uri": "https://localhost:8080/"
        },
        "id": "mMN33eDzxEVw",
        "outputId": "2c178de6-3d3e-4c92-ef26-86c420261157"
      },
      "outputs": [
        {
          "output_type": "stream",
          "name": "stdout",
          "text": [
            "訓練資料正確率: 1.0\n",
            "測試資料正確率: 0.9777777777777777\n",
            "標準答案: [2 1 0 2 0 2 0 1 1 1 2 1 1 1 1 0 1 1 0 0 2 1 0 0 2 0 0 1 1 0 2 1 0 2 2 1 0\n",
            " 1 1 1 2 0 2 0 0]\n",
            "預測答案: [2 1 0 2 0 2 0 1 1 1 2 1 1 1 1 0 1 1 0 0 2 1 0 0 2 0 0 1 1 0 2 1 0 2 2 1 0\n",
            " 2 1 1 2 0 2 0 0]\n"
          ]
        }
      ],
      "source": [
        "from sklearn import datasets, svm\n",
        "from sklearn.model_selection import train_test_split\n",
        "\n",
        "iris=datasets.load_iris()\n",
        "x=iris.data\n",
        "y=iris.target\n",
        "train_data, test_data, train_label, test_label = train_test_split(x, y,test_size=0.3,random_state=0)\n",
        "clf=svm.SVC(kernel='poly',gamma='auto',C=100)\n",
        "clf.fit(train_data,train_label)\n",
        "print(\"訓練資料正確率:\",clf.score(train_data,train_label)) # 訓練資料正確率\n",
        "print(\"測試資料正確率:\",clf.score(test_data, test_label)) # 測試資料正確率\n",
        "predict=clf.predict(test_data)\n",
        "print(\"標準答案:\",test_label) # 標準答案\n",
        "print(\"預測答案:\",predict) # 預測答案"
      ]
    }
  ]
}